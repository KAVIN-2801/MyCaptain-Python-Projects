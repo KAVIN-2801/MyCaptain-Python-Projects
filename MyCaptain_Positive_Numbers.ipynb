{
  "nbformat": 4,
  "nbformat_minor": 0,
  "metadata": {
    "colab": {
      "name": "MyCaptain_Positive Numbers",
      "provenance": []
    },
    "kernelspec": {
      "name": "python3",
      "display_name": "Python 3"
    }
  },
  "cells": [
    {
      "cell_type": "markdown",
      "metadata": {
        "id": "zf7uL3sFUBTM"
      },
      "source": [
        "Write a Python program to print all positive numbers in a range.\r\n",
        "\r\n",
        "Your Input and output must look something like this\r\n",
        "\r\n",
        "Input: list1 = [12, -7, 5, 64, -14] Output: 12, 5, 64\r\n",
        "\r\n",
        "Input: list2 = [12, 14, -95, 3] Output: [12, 14, 3]\r\n",
        "\r\n",
        "Submit your GITHUB link for grade calculation below. Thanks!"
      ]
    },
    {
      "cell_type": "code",
      "metadata": {
        "id": "QCiBdo8pTqFD"
      },
      "source": [
        "n = int(input(\"Give the range for number of integers in list: \"))\r\n",
        "\r\n",
        "l = []       # empty list\r\n",
        "\r\n",
        "for i in range(0,n) :\r\n",
        "  a = int(input(\"Give the interger to append in list: \"))\r\n",
        "  l.append(a)\r\n",
        "\r\n",
        "positive = []           # empty list for positive numbers\r\n",
        "\r\n",
        "for i in l :\r\n",
        "  if i > 0 :\r\n",
        "    positive.append(i-)\r\n",
        "\r\n",
        "print(positive)\r\n"
      ],
      "execution_count": null,
      "outputs": []
    }
  ]
}