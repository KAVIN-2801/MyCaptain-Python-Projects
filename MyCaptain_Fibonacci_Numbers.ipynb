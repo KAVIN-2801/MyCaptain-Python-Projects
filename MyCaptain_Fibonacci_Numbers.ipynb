{
  "nbformat": 4,
  "nbformat_minor": 0,
  "metadata": {
    "colab": {
      "name": "MyCaptain_Fibonacci Numbers",
      "provenance": []
    },
    "kernelspec": {
      "name": "python3",
      "display_name": "Python 3"
    }
  },
  "cells": [
    {
      "cell_type": "markdown",
      "metadata": {
        "id": "uD-vbT7rbkKS"
      },
      "source": [
        "Write a Python Program for Fibonacci numbers.\r\n",
        "\r\n",
        "The Fibonacci numbers are the numbers in the following integer sequence. 0, 1, 1, 2, 3, 5, 8, 13, 21, 34, 55, 89, 144, …….. In mathematical terms, the sequence Fn of Fibonacci numbers is defined by the recurrence relation.\r\n",
        "\r\n",
        "Submit your GITHUB link for grade calculation below. Thanks! Here is a video on how to upload the GITHUB link."
      ]
    },
    {
      "cell_type": "code",
      "metadata": {
        "id": "MqiVQJTrZD4s"
      },
      "source": [
        "n = int(input(\"Give the range for the Fibonacci numbers: \"))\r\n",
        "\r\n",
        "l = [0,1]\r\n",
        "\r\n",
        "for i in range(n-2) :\r\n",
        "  a = l[-1] + l[-2]\r\n",
        "  l.append(a)\r\n",
        "\r\n",
        "for i in l :\r\n",
        "  print(i,end=\",\")\r\n"
      ],
      "execution_count": null,
      "outputs": []
    },
    {
      "cell_type": "code",
      "metadata": {
        "id": "WWoQF1VfbnFS"
      },
      "source": [
        "n = int(input(\"Give the range for the Fibonacci numbers: \"))\r\n",
        "\r\n",
        "l = [0,1]\r\n",
        "\r\n",
        "for i in range(n-2) :\r\n",
        "  a = l[-1] + l[-2]\r\n",
        "  l.append(a)\r\n",
        "\r\n",
        "s = []\r\n",
        "\r\n",
        "for i in l:\r\n",
        "  a = str(i)\r\n",
        "  s.append(a)\r\n",
        "\r\n",
        "s = \",\".join(s)\r\n",
        "\r\n",
        "print(s)\r\n",
        "  "
      ],
      "execution_count": null,
      "outputs": []
    },
    {
      "cell_type": "code",
      "metadata": {
        "id": "KEkeox6rcKDb"
      },
      "source": [
        "n = int(input(\"Give the range for the Fibonacci numbers: \"))\r\n",
        "\r\n",
        "l = [0,1]\r\n",
        "\r\n",
        "for i in range(n-2) :\r\n",
        "  a = l[-1] + l[-2]\r\n",
        "  l.append(a)\r\n",
        "\r\n",
        "s = \",\".join(map(str,l))\r\n",
        "\r\n",
        "print(s)"
      ],
      "execution_count": null,
      "outputs": []
    }
  ]
}