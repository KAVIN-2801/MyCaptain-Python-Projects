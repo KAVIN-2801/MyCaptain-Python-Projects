{
  "nbformat": 4,
  "nbformat_minor": 0,
  "metadata": {
    "colab": {
      "name": "MyCaptain_Challenge : Functions",
      "provenance": []
    },
    "kernelspec": {
      "name": "python3",
      "display_name": "Python 3"
    }
  },
  "cells": [
    {
      "cell_type": "markdown",
      "metadata": {
        "id": "CM7iqJtufGJ0"
      },
      "source": [
        "Write Python code to create a function called most_frequent that takes a string and prints the letters in decreasing order of frequency. Use dictionaries.\r\n",
        "\r\n",
        "Your Input and output should look something like this\r\n",
        "\r\n",
        "Input : Please enter a string Mississippi\r\n",
        "\r\n",
        "Output : i = 04 s = 04 p =02 m =01"
      ]
    },
    {
      "cell_type": "code",
      "metadata": {
        "colab": {
          "base_uri": "https://localhost:8080/"
        },
        "id": "LcoAaNqohFRZ",
        "outputId": "f03740be-6f05-402d-ef71-9b660c4a003e"
      },
      "source": [
        "from collections import Counter\r\n",
        "\r\n",
        "for letter , count in sorted(Counter(input(\"Please enter a string: \")).most_common(3),key=lambda x:(-x[1],x[0])):\r\n",
        "  print(letter,count)\r\n"
      ],
      "execution_count": 12,
      "outputs": [
        {
          "output_type": "stream",
          "text": [
            "Please enter a string: Mississippi\n",
            "i 4\n",
            "s 4\n",
            "p 2\n"
          ],
          "name": "stdout"
        }
      ]
    },
    {
      "cell_type": "code",
      "metadata": {
        "colab": {
          "base_uri": "https://localhost:8080/"
        },
        "id": "P8GG3uLjgrOq",
        "outputId": "a9a64114-ebe8-4d43-a643-034e038e2949"
      },
      "source": [
        "def make_dict(x):\r\n",
        "    dictionary = {}\r\n",
        "    for letter in x:\r\n",
        "        dictionary[letter] = 1 + dictionary.get(letter, 0)\r\n",
        "    return dictionary\r\n",
        "\r\n",
        "\r\n",
        "def most_frequent(text):\r\n",
        "    letters = [letter.lower() for letter in text if letter.isalpha()]\r\n",
        "    dictionary = make_dict(letters)\r\n",
        "    result = []\r\n",
        "    for key in dictionary:\r\n",
        "        result.append((dictionary[key], key))\r\n",
        "    result.sort(reverse=True)\r\n",
        "    for count, letter in result:\r\n",
        "        print (letter, count)\r\n",
        "\r\n",
        "t = input(\"\")\r\n",
        "most_frequent(t)"
      ],
      "execution_count": 13,
      "outputs": [
        {
          "output_type": "stream",
          "text": [
            "Mississippi\n",
            "s 4\n",
            "i 4\n",
            "p 2\n",
            "m 1\n"
          ],
          "name": "stdout"
        }
      ]
    }
  ]
}