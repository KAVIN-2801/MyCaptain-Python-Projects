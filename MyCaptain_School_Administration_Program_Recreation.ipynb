{
  "nbformat": 4,
  "nbformat_minor": 0,
  "metadata": {
    "colab": {
      "name": "MyCaptain_School Administration Program Recreation",
      "provenance": []
    },
    "kernelspec": {
      "name": "python3",
      "display_name": "Python 3"
    },
    "language_info": {
      "name": "python"
    }
  },
  "cells": [
    {
      "cell_type": "markdown",
      "metadata": {
        "id": "ijUGCUDQ8wtj"
      },
      "source": [
        "Your task for the day is to recreate the School Administration Program that we created in the previous lesson.\n",
        "\n",
        "Make sure you follow all steps and solve all errors methodically."
      ]
    },
    {
      "cell_type": "code",
      "metadata": {
        "id": "ofsPCTw08oG3"
      },
      "source": [
        "# Project 1 - Basic School Administration Tool"
      ],
      "execution_count": null,
      "outputs": []
    },
    {
      "cell_type": "code",
      "metadata": {
        "id": "a6-ZClmIT8FG"
      },
      "source": [
        "import csv\n",
        "\n",
        "def write_into_csv(info_list):\n",
        "  with open('student_info.csv','a',newline=' ') as csv_file:\n",
        "    writer = csv.writer(csv_file)\n",
        "\n",
        "    if csv_file.tell() == 0:\n",
        "      writer.writerow[\"Name\", \"Age\", \"Contact Number\", \"E-Mail ID\"]\n",
        "\n",
        "    writer.writerow(info_list)\n",
        "\n",
        "if __name__ == '__main__':\n",
        "  condition = True\n",
        "  student_num = 1\n",
        "\n",
        "  while(condition):\n",
        "    student_info = input(\"Enter student information for student #{} in the following format (Name Age Contact_Number E-mail_ID): \".format(student_num))\n",
        "\n",
        "    student_info_list = student_info.split(' ')\n",
        "\n",
        "    print(\"\\nThe entered information is -\\nName: {}\\nAge: {}\\nContact_Number: {}\\nEmail ID: {}\"\n",
        "            .format(student_info_list[0], student_info_list[1], student_info_list[2], student_info_list[3]))\n",
        "    \n",
        "    choice_check = input(\"Is the entered information correct? (yes / no: \")\n",
        "\n",
        "    if choice_check == \"yes\":\n",
        "      write_into_csv(student_info_list)\n",
        "\n",
        "      condition_check = input(\"Enter (yes/no) If you want to enter information for another student: \")\n",
        "      if condition_check == \"yes\":\n",
        "        condition = True\n",
        "        student_num += 1\n",
        "      elif condition_check == \"no\":\n",
        "        condition = False\n",
        "    elif choice_ckeck == \"no\":\n",
        "      print(\"\\nPlease re-enter the values!\")     "
      ],
      "execution_count": null,
      "outputs": []
    }
  ]
}