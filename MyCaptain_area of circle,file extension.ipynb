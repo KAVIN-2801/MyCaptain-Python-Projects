{
  "nbformat": 4,
  "nbformat_minor": 0,
  "metadata": {
    "colab": {
      "name": "MyCaptain",
      "provenance": []
    },
    "kernelspec": {
      "name": "python3",
      "display_name": "Python 3"
    }
  },
  "cells": [
    {
      "cell_type": "markdown",
      "metadata": {
        "id": "9nc50-yE9nYq"
      },
      "source": [
        "**Lets code data structure - PROJECT**"
      ]
    },
    {
      "cell_type": "markdown",
      "metadata": {
        "id": "G0FbhfNe9jYz"
      },
      "source": [
        "Your task now is to write a Python program which accepts the radius of a circle from the user and computes area.\r\n",
        "Your Input and Output should look something like this\r\n",
        "\r\n",
        "-->Input the radius of the circle : 1.1 The area of the circle with radius 1.1 is: 3.8013271108436504"
      ]
    },
    {
      "cell_type": "code",
      "metadata": {
        "id": "kkPgI-qV9bCv"
      },
      "source": [
        "radius = float(input(\"Input the radius of the circle: \"))\r\n",
        "area = (22/7) * (radius**2)\r\n",
        "print(\"Input the radius of the circle:\",radius)\r\n",
        "print(\"The area of the circle with radius\",radius,\"is:\",area)"
      ],
      "execution_count": null,
      "outputs": []
    },
    {
      "cell_type": "code",
      "metadata": {
        "id": "1efHMqBCASy6"
      },
      "source": [
        "import math\r\n",
        "radius = float(input(\"Input the radius of the circle: \"))\r\n",
        "area = (math.pi) * (radius**2)\r\n",
        "print(\"Input the radius of the circle:\",radius)\r\n",
        "print(\"The area of the circle with radius\",radius,\"is:\",area)"
      ],
      "execution_count": null,
      "outputs": []
    },
    {
      "cell_type": "markdown",
      "metadata": {
        "id": "qRuSWm81_LXz"
      },
      "source": [
        "Your second task now is to write a Python program to accept a filename from the user and print the extension of that.\r\n",
        "Your Input and Output should look something like this\r\n",
        "\r\n",
        "-->Input the Filename: abc.py The extension of the file is : 'python'"
      ]
    },
    {
      "cell_type": "code",
      "metadata": {
        "id": "vo4Zy5sC_N96"
      },
      "source": [
        "file_name = input(\"Input the Filename: \")\r\n",
        "if file_name[-2:] == \"py\":\r\n",
        "  ext = \"python\"\r\n",
        "print(\"Input the Filename:\",file_name)\r\n",
        "print(\"The extension of the file is :'\"+ext+\"'\")  "
      ],
      "execution_count": null,
      "outputs": []
    }
  ]
}